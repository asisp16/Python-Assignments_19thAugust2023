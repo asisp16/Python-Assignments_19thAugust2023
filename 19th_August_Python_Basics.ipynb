{
 "cells": [
  {
   "cell_type": "code",
   "execution_count": 1,
   "id": "5cfd3a3c-ae9e-42f1-b4b2-1edfd88316b7",
   "metadata": {},
   "outputs": [
    {
     "name": "stdout",
     "output_type": "stream",
     "text": [
      "The value of x is 10\n",
      "The value of y is 20\n"
     ]
    }
   ],
   "source": [
    "# Swap values of two variables without using temporary variables\n",
    "\n",
    "x=20\n",
    "y=10\n",
    "y=x+y # x=20,y=30\n",
    "x=y-x # x=10,y=30\n",
    "y=y-x # x=10,y=20\n",
    "print (\"The value of x is\", x)\n",
    "print (\"The value of y is\", y)"
   ]
  },
  {
   "cell_type": "code",
   "execution_count": 2,
   "id": "2ea3e0d8-7144-482d-b75f-fe7eb0988bc5",
   "metadata": {},
   "outputs": [
    {
     "name": "stdin",
     "output_type": "stream",
     "text": [
      "Enter the length of the rectangle:  3\n",
      "Enter the width of the rectangle:  4\n"
     ]
    },
    {
     "name": "stdout",
     "output_type": "stream",
     "text": [
      "The area of the rectangle is 12.0\n"
     ]
    }
   ],
   "source": [
    "# Calculate the area of a rectangle\n",
    "\n",
    "length = float(input(\"Enter the length of the rectangle: \"))\n",
    "width = float(input(\"Enter the width of the rectangle: \"))\n",
    "area = length*width\n",
    "print(\"The area of the rectangle is\", area)"
   ]
  },
  {
   "cell_type": "code",
   "execution_count": 3,
   "id": "79f3edd4-0f2e-4bcf-a0f6-16fb1c0e6ae4",
   "metadata": {},
   "outputs": [
    {
     "name": "stdin",
     "output_type": "stream",
     "text": [
      "Enter the temperature in Celsius:  37\n"
     ]
    },
    {
     "name": "stdout",
     "output_type": "stream",
     "text": [
      "The temperature in fahrenheit is 98.6\n"
     ]
    }
   ],
   "source": [
    "# WAP that converts temperature from Celsius to Fahrenheit. \n",
    "\n",
    "tc = float(input(\"Enter the temperature in Celsius: \"))\n",
    "tf= (tc * 9/5) + 32\n",
    "print(\"The temperature in fahrenheit is\", tf)"
   ]
  },
  {
   "cell_type": "code",
   "execution_count": 4,
   "id": "1c0d4d64-3b4f-413e-970d-470a484d2278",
   "metadata": {},
   "outputs": [
    {
     "name": "stdin",
     "output_type": "stream",
     "text": [
      "Enter a String:  Python is a Good Programming Language\n"
     ]
    },
    {
     "name": "stdout",
     "output_type": "stream",
     "text": [
      "The length of the entered String is 37\n"
     ]
    }
   ],
   "source": [
    "# WAP that takes a string as input and prints the length of the string.\n",
    "\n",
    "s1 = input(\"Enter a String: \")\n",
    "l1=len(s1)\n",
    "print(\"The length of the entered String is\", l1)"
   ]
  },
  {
   "cell_type": "code",
   "execution_count": 5,
   "id": "40ee9614-d79a-4eea-af95-8f8b7dcc7db6",
   "metadata": {},
   "outputs": [
    {
     "name": "stdin",
     "output_type": "stream",
     "text": [
      "Enter a String to count vowels:  Sudhanshu Sir & Krish Naik Sir\n"
     ]
    },
    {
     "name": "stdout",
     "output_type": "stream",
     "text": [
      "The Number of Vowels in the String is:  8\n"
     ]
    }
   ],
   "source": [
    "# WAP that takes a sentence from the user and counts the number of vowels (a, e, i, o, u) in the string.\n",
    "\n",
    "s3 = input (\"Enter a String to count vowels: \")\n",
    "vowels=0\n",
    "for i in s3:\n",
    "    if (i=='A' or i=='E' or i=='I' or i=='O' or i=='U' or i=='a' or i=='e' or i=='i' or i=='o' or i=='u'):\n",
    "        vowels = vowels + 1 \n",
    "        \n",
    "print (\"The Number of Vowels in the String is: \", vowels)"
   ]
  },
  {
   "cell_type": "code",
   "execution_count": 6,
   "id": "1cc20b6c-1489-4625-862d-feaca59bc315",
   "metadata": {},
   "outputs": [
    {
     "name": "stdin",
     "output_type": "stream",
     "text": [
      "Enter a String:  Konark\n"
     ]
    },
    {
     "name": "stdout",
     "output_type": "stream",
     "text": [
      "The String after reversing the order of characters is:  kranoK\n"
     ]
    }
   ],
   "source": [
    "# Given a string, reverse the order of characters using string slicing and print the reversed string.\n",
    "\n",
    "s4 = input(\"Enter a String: \")\n",
    "s5=s4[::-1]\n",
    "print(\"The String after reversing the order of characters is: \",s5)"
   ]
  },
  {
   "cell_type": "code",
   "execution_count": 7,
   "id": "6b623f57-7f98-478f-92b4-aeb966ee1f51",
   "metadata": {},
   "outputs": [
    {
     "name": "stdin",
     "output_type": "stream",
     "text": [
      "Enter a String:  radar\n"
     ]
    },
    {
     "name": "stdout",
     "output_type": "stream",
     "text": [
      "The Entered String is a Pallindrome\n"
     ]
    }
   ],
   "source": [
    "# WAP that takes a string as input and checks if it is a palindrome (reads the same forwards and backwards)\n",
    "\n",
    "s6 = input(\"Enter a String: \")\n",
    "s6=s6.lower()\n",
    "s7=s6[::-1]\n",
    "\n",
    "if s6==s7:\n",
    "    print (\"The Entered String is a Pallindrome\")\n",
    "else:\n",
    "    print (\"The Entered String is not a Pallindrome\")"
   ]
  },
  {
   "cell_type": "code",
   "execution_count": 8,
   "id": "61cbff46-827c-47f5-b27b-9fee177c5907",
   "metadata": {},
   "outputs": [
    {
     "name": "stdin",
     "output_type": "stream",
     "text": [
      "Enter a String:  India is my Home\n"
     ]
    },
    {
     "name": "stdout",
     "output_type": "stream",
     "text": [
      "The String after removal of all spaces is:  IndiaismyHome\n"
     ]
    }
   ],
   "source": [
    "# WAP that takes a string as input and removes all the spaces from it. Print the modified string without spaces.\n",
    "\n",
    "s8 = input (\"Enter a String: \")\n",
    "s9=s8.replace(\" \",\"\")\n",
    "print (\"The String after removal of all spaces is: \", s9)\n"
   ]
  },
  {
   "cell_type": "code",
   "execution_count": null,
   "id": "664193b2-730d-44b5-ab4e-f923b6489629",
   "metadata": {},
   "outputs": [],
   "source": []
  }
 ],
 "metadata": {
  "kernelspec": {
   "display_name": "Python 3 (ipykernel)",
   "language": "python",
   "name": "python3"
  },
  "language_info": {
   "codemirror_mode": {
    "name": "ipython",
    "version": 3
   },
   "file_extension": ".py",
   "mimetype": "text/x-python",
   "name": "python",
   "nbconvert_exporter": "python",
   "pygments_lexer": "ipython3",
   "version": "3.10.8"
  }
 },
 "nbformat": 4,
 "nbformat_minor": 5
}
